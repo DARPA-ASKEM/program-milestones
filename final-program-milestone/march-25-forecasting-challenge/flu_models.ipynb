{
 "cells": [
  {
   "cell_type": "markdown",
   "id": "e62bd400-5a7e-4392-8c7f-36dcd69c0a8d",
   "metadata": {},
   "source": [
    "# Notebook for the flu ensemble modeling challenge"
   ]
  },
  {
   "cell_type": "markdown",
   "id": "17aca92d-a1d0-4230-a37e-9fbebfffb8b5",
   "metadata": {},
   "source": [
    "### Load dependencies"
   ]
  },
  {
   "cell_type": "code",
   "execution_count": 1,
   "id": "5f32b08a-2818-4e7b-b018-e2055aa6c465",
   "metadata": {},
   "outputs": [],
   "source": [
    "import os\n",
    "import json\n",
    "import sympy\n",
    "import torch\n",
    "import numpy as np\n",
    "import pandas as pd\n",
    "from typing import Dict, List, Callable\n",
    "\n",
    "# MIRA modeling dependencies\n",
    "from mira.metamodel import *\n",
    "from mira.metamodel.ops import stratify\n",
    "from mira.examples.concepts import susceptible, exposed, infected, recovered\n",
    "from mira.modeling import Model\n",
    "from mira.modeling.amr.petrinet import AMRPetriNetModel, template_model_to_petrinet_json\n",
    "from mira.sources.amr.petrinet import template_model_from_amr_json\n",
    "from mira.metamodel.io import model_to_json_file, model_from_json_file\n",
    "\n",
    "# PyCIEMSS dependencies\n",
    "import pyciemss\n",
    "import pyciemss.visuals.plots as plots\n",
    "import pyciemss.visuals.vega as vega\n",
    "import pyciemss.visuals.trajectories as trajectories\n",
    "from pyciemss.integration_utils.intervention_builder import (\n",
    "    param_value_objective,\n",
    "    start_time_objective,\n",
    ")"
   ]
  },
  {
   "cell_type": "markdown",
   "id": "67a5b2ea-7a56-49f3-ba6a-00954d8986aa",
   "metadata": {},
   "source": [
    "# Process data"
   ]
  },
  {
   "cell_type": "code",
   "execution_count": 5,
   "id": "650c94f6-bf20-456f-8d5d-4159c70bffd3",
   "metadata": {},
   "outputs": [],
   "source": [
    "data22_23 = pd.read_csv(\"FL-PA-Truth-22-23.csv\")\n",
    "data23_24 = pd.read_csv(\"FL-PA-Truth-23-24.csv\")"
   ]
  },
  {
   "cell_type": "markdown",
   "id": "8da199eb-ecdd-4b5c-b28b-05f5b7f4b70f",
   "metadata": {},
   "source": [
    "## Set Florida and Pennsylvania population parameters and initial values"
   ]
  },
  {
   "cell_type": "code",
   "execution_count": 2,
   "id": "b4e210d4-1a94-4a12-a0f8-4465fc92d222",
   "metadata": {},
   "outputs": [],
   "source": [
    "FL_total_population = 23_370_000\n",
    "PA_total_population = 13_080_000"
   ]
  },
  {
   "cell_type": "markdown",
   "id": "7ae907fa-0db7-4c1c-ae42-c9a754cc7f40",
   "metadata": {},
   "source": [
    "# Build model 1"
   ]
  },
  {
   "cell_type": "markdown",
   "id": "428863f0-d33e-4dbd-a1d1-fce60e2cf2ce",
   "metadata": {},
   "source": [
    "### Define units"
   ]
  },
  {
   "cell_type": "code",
   "execution_count": null,
   "id": "2b97e983-8a3b-4804-92ea-bdf1f04dffb6",
   "metadata": {},
   "outputs": [],
   "source": [
    "# TODO: change to weekly\n",
    "person_units = lambda: Unit(expression=sympy.Symbol('person'))\n",
    "day_units = lambda: Unit(expression=sympy.Symbol('day'))\n",
    "per_day_units = lambda: Unit(expression=1/sympy.Symbol('day'))\n",
    "dimensionless_units = lambda: Unit(expression=sympy.Integer('1'))\n",
    "per_day_per_person_units = lambda: Unit(expression=1/(sympy.Symbol('day')*sympy.Symbol('person')))"
   ]
  },
  {
   "cell_type": "markdown",
   "id": "5ac46c94-68f8-4946-87b5-f6d989e8018f",
   "metadata": {},
   "source": [
    "### Define and stratify model concepts"
   ]
  },
  {
   "cell_type": "code",
   "execution_count": null,
   "id": "71cf9473-9e9f-4a48-8516-e40fe9a38c83",
   "metadata": {},
   "outputs": [],
   "source": [
    "_susceptible = Concept(name='S', units=person_units(), identifiers={'ido': '0000514'})\n",
    "_exposed = Concept(name='E', units=person_units(), identifiers={'apollosv': '00000154'})\n",
    "_infected = Concept(name='I', units=person_units(), identifiers={'ido': '0000511'})\n",
    "\n",
    "c = {\n",
    "    'S_u': _susceptible.with_context(status=\"unvaccinated\"),\n",
    "    'S_v': _susceptible.with_context(status=\"vaccinated\"),\n",
    "    \n",
    "    'E_u': _exposed.with_context(status=\"unvaccinated\"),\n",
    "    'E_v': _exposed.with_context(status=\"vaccinated\"),\n",
    "    \n",
    "    'I_u': _infected.with_context(status=\"unvaccinated\"),\n",
    "    'I_v': _infected.with_context(status=\"vaccinated\"),\n",
    "    \n",
    "    'R': Concept(name='R', units=person_units(), identifiers={'ido': '0000592'}),\n",
    "    'H': Concept(name=\"H\", units=person_units(), identifiers={\"ido\": \"0000511\"},\n",
    "                        context={\"property\": \"ncit:C25179\"}),\n",
    "    'D': Concept(name=\"D\", units=person_units(), identifiers={\"ncit\": \"C28554\"}),\n",
    "    \n",
    "    \"Cumulative_cases\": Concept(name=\"Cumulative_cases\", units=person_units()),\n",
    "}\n",
    "\n",
    "for concept in c:\n",
    "    c[concept].name = concept"
   ]
  },
  {
   "cell_type": "markdown",
   "id": "47566694-8047-4d90-95cb-1f1e46073928",
   "metadata": {},
   "source": [
    "### Define parameter values and uncertainty"
   ]
  },
  {
   "cell_type": "code",
   "execution_count": null,
   "id": "4d45cd27-f6f7-42b2-b5e4-4b38f5da829f",
   "metadata": {},
   "outputs": [],
   "source": [
    "\n",
    "parameters = {\n",
    "    'beta': Parameter(name='beta', value=sympy.Float(0.125), units=per_day_units(),\n",
    "                      distribution=Distribution(type='StandardUniform1',\n",
    "                                                parameters={'minimum': 0.12,\n",
    "                                                            'maximum': 0.135})),  # Transmission rate\n",
    "\n",
    "    'NPI_mult': Parameter(name='NPI_mult', value=sympy.Float(1.0), units=dimensionless_units(),\n",
    "                      distribution=Distribution(type='StandardUniform1',\n",
    "                                                parameters={'minimum': 0.999,\n",
    "                                                            'maximum': 1.001})),  # NPI (social distancing/masking) multiplier\n",
    "\n",
    "    'vacc_mult': Parameter(name='vacc_mult', value=sympy.Float(vacc_effectiveness), units=dimensionless_units(),\n",
    "                      distribution=None),  # Vaccination multiplier\n",
    "    \n",
    "    'N': Parameter(name='total_population', value=sympy.Float(LA_county_total_pop), units=person_units()),  # Total population\n",
    "    \n",
    "    'r_EI': Parameter(name='r_EI', value=sympy.Float(0.1424), units=per_day_units(),\n",
    "                     distribution=Distribution(type='StandardUniform1',\n",
    "                                                parameters={'minimum': 0.1,\n",
    "                                                            'maximum': 0.25})),  # Rate of progressing E -> I\n",
    "    \n",
    "    'r_IR_u': Parameter(name='r_IR_u', value=sympy.Float(0.15), units=per_day_units(),\n",
    "                     distribution=Distribution(type='StandardUniform1',\n",
    "                                                parameters={'minimum': 0.1,\n",
    "                                                            'maximum': 0.2})),  # Rate of progressing I_u -> R\n",
    "    'r_IR_v': Parameter(name='r_IR_v', value=sympy.Float(0.162), units=per_day_units(),\n",
    "                 distribution=Distribution(type='StandardUniform1',\n",
    "                                            parameters={'minimum': 0.15,\n",
    "                                                        'maximum': 0.2})),  # Rate of progressing I_v -> R\n",
    "\n",
    "    'r_IH_u': Parameter(name='r_IH_u', value=sympy.Float(0.0041), units=per_day_units(),\n",
    "                     distribution=Distribution(type='StandardUniform1',\n",
    "                                                parameters={'minimum': 0.004,\n",
    "                                                            'maximum': 0.0045})),  # Rate of progressing I_u -> H\n",
    "    'r_IH_v': Parameter(name='r_IH_v', value=sympy.Float(0.0013), units=per_day_units(),\n",
    "                 distribution=Distribution(type='StandardUniform1',\n",
    "                                                parameters={'minimum': 0.001,\n",
    "                                                            'maximum': 0.0015})),  # Rate of progressing I_v -> H\n",
    "    \n",
    "    'r_HR': Parameter(name='r_HR', value=sympy.Float(0.155), units=per_day_units(),\n",
    "                     distribution=Distribution(type='StandardUniform1',\n",
    "                                                parameters={'minimum': 0.12,\n",
    "                                                            'maximum': 0.2})),  # Rate of progressing H -> R\n",
    "    \n",
    "    'r_HD': Parameter(name='r_HD', value=sympy.Float(0.0099), units=per_day_units(),\n",
    "                     distribution=Distribution(type='StandardUniform1',\n",
    "                                                parameters={'minimum': 0.0095,\n",
    "                                                            'maximum': 0.012})),  # Rate of progressing H -> D\n",
    "\n",
    "    'r_Sv': Parameter(name='r_Sv', value=sympy.Float(10000), units=per_day_units(),\n",
    "                     distribution=Distribution(type='StandardUniform1',\n",
    "                                                parameters={'minimum': 9999,\n",
    "                                                            'maximum': 10001})),  # number of R and Su vaccinated per day\n",
    "    \n",
    "    'r_SvSu': Parameter(name='r_SvSu', value=sympy.Float(0.002), units=per_day_units(),\n",
    "                     distribution=None),  # Vaccination duration = 1 year\n",
    "}"
   ]
  },
  {
   "cell_type": "markdown",
   "id": "ab6da3af-23c0-49f0-8a44-bdf84c7c7f53",
   "metadata": {},
   "source": [
    "### Define `SymPy` variables"
   ]
  },
  {
   "cell_type": "code",
   "execution_count": 6,
   "id": "0ee98f89-db45-4710-a49c-b1310eb2fe58",
   "metadata": {},
   "outputs": [],
   "source": [
    "S_u, S_v, E_u, E_v, I_u, I_v, R, H, D, Cumulative_cases, beta, NPI_mult, vacc_mult, N, r_EI, r_IR_u, r_IR_v, r_IH_u, r_IH_v, r_HR, r_HD, r_Sv, r_SvSu = \\\n",
    "    sympy.symbols(\n",
    "        'S_u S_v E_u E_v I_u I_v R H D Cumulative_cases beta NPI_mult vacc_mult N r_EI r_IR_u r_IR_v r_IH_u r_IH_v r_HR r_HD r_Sv r_SvSu'\n",
    "    )"
   ]
  },
  {
   "cell_type": "markdown",
   "id": "53067d76-f6eb-4022-af37-d08d3e1f60eb",
   "metadata": {},
   "source": [
    "### Set initial conditions"
   ]
  },
  {
   "cell_type": "code",
   "execution_count": null,
   "id": "eede8ef0-5a09-45c7-915b-56bd63a7acd6",
   "metadata": {},
   "outputs": [],
   "source": [
    "initials = {\n",
    "    \"S_u\": Initial(concept=c[\"S_u\"], expression=initial_susceptible*(1 - p_vacc)),\n",
    "    \"S_v\": Initial(concept=c[\"S_v\"], expression=initial_susceptible*p_vacc),\n",
    "    \"E_u\": Initial(concept=c[\"E_u\"], expression=2*initial_exposed/3),\n",
    "    \"E_v\": Initial(concept=c[\"E_v\"], expression=initial_exposed/3),\n",
    "    \"I_u\": Initial(concept=c[\"I_u\"], expression=2*initial_cases/3),\n",
    "    \"I_v\": Initial(concept=c[\"I_v\"], expression=initial_cases/3),\n",
    "    \"R\": Initial(concept=c[\"R\"], expression=initial_recovered),\n",
    "    'H': Initial(concept=c[\"H\"], expression=initial_hosp),\n",
    "    'D': Initial(concept=c[\"D\"], expression=initial_deaths),\n",
    "    \"Cumulative_cases\": Initial(concept=c[\"Cumulative_cases\"], expression=initial_cumulative_cases),\n",
    "}"
   ]
  },
  {
   "cell_type": "markdown",
   "id": "ce05077d-c8bd-4ce6-8569-5f8a98954098",
   "metadata": {},
   "source": [
    "### Define model templates"
   ]
  },
  {
   "cell_type": "code",
   "execution_count": 8,
   "id": "3b1322ec-366d-4e4d-b2fe-4c1647c95ee1",
   "metadata": {},
   "outputs": [
    {
     "ename": "NameError",
     "evalue": "name 'c' is not defined",
     "output_type": "error",
     "traceback": [
      "\u001b[0;31m---------------------------------------------------------------------------\u001b[0m",
      "\u001b[0;31mNameError\u001b[0m                                 Traceback (most recent call last)",
      "Cell \u001b[0;32mIn[8], line 4\u001b[0m\n\u001b[1;32m      1\u001b[0m \u001b[38;5;66;03m##### S -> E\u001b[39;00m\n\u001b[1;32m      2\u001b[0m \u001b[38;5;66;03m# Su -> Eu by Iu\u001b[39;00m\n\u001b[1;32m      3\u001b[0m sueuiu \u001b[38;5;241m=\u001b[39m ControlledConversion(\n\u001b[0;32m----> 4\u001b[0m     subject\u001b[38;5;241m=\u001b[39m\u001b[43mc\u001b[49m[\u001b[38;5;124m'\u001b[39m\u001b[38;5;124mS_u\u001b[39m\u001b[38;5;124m'\u001b[39m],\n\u001b[1;32m      5\u001b[0m     outcome\u001b[38;5;241m=\u001b[39mc[\u001b[38;5;124m'\u001b[39m\u001b[38;5;124mE_u\u001b[39m\u001b[38;5;124m'\u001b[39m],\n\u001b[1;32m      6\u001b[0m     controller\u001b[38;5;241m=\u001b[39mc[\u001b[38;5;124m'\u001b[39m\u001b[38;5;124mI_u\u001b[39m\u001b[38;5;124m'\u001b[39m],\n\u001b[1;32m      7\u001b[0m     rate_law\u001b[38;5;241m=\u001b[39mbeta\u001b[38;5;241m*\u001b[39mNPI_mult\u001b[38;5;241m*\u001b[39mS_u\u001b[38;5;241m*\u001b[39mI_u \u001b[38;5;241m/\u001b[39m N\n\u001b[1;32m      8\u001b[0m )\n\u001b[1;32m      9\u001b[0m \u001b[38;5;66;03m# Sv -> Ev by Iu\u001b[39;00m\n\u001b[1;32m     10\u001b[0m sveviu \u001b[38;5;241m=\u001b[39m ControlledConversion(\n\u001b[1;32m     11\u001b[0m     subject\u001b[38;5;241m=\u001b[39mc[\u001b[38;5;124m'\u001b[39m\u001b[38;5;124mS_v\u001b[39m\u001b[38;5;124m'\u001b[39m],\n\u001b[1;32m     12\u001b[0m     outcome\u001b[38;5;241m=\u001b[39mc[\u001b[38;5;124m'\u001b[39m\u001b[38;5;124mE_v\u001b[39m\u001b[38;5;124m'\u001b[39m],\n\u001b[1;32m     13\u001b[0m     controller\u001b[38;5;241m=\u001b[39mc[\u001b[38;5;124m'\u001b[39m\u001b[38;5;124mI_u\u001b[39m\u001b[38;5;124m'\u001b[39m],\n\u001b[1;32m     14\u001b[0m     rate_law\u001b[38;5;241m=\u001b[39mbeta\u001b[38;5;241m*\u001b[39mNPI_mult\u001b[38;5;241m*\u001b[39mvacc_mult\u001b[38;5;241m*\u001b[39mS_v\u001b[38;5;241m*\u001b[39mI_u \u001b[38;5;241m/\u001b[39m N\n\u001b[1;32m     15\u001b[0m )\n",
      "\u001b[0;31mNameError\u001b[0m: name 'c' is not defined"
     ]
    }
   ],
   "source": [
    "##### S -> E\n",
    "# Su -> Eu by Iu\n",
    "sueuiu = ControlledConversion(\n",
    "    subject=c['S_u'],\n",
    "    outcome=c['E_u'],\n",
    "    controller=c['I_u'],\n",
    "    rate_law=beta*NPI_mult*S_u*I_u / N\n",
    ")\n",
    "# Sv -> Ev by Iu\n",
    "sveviu = ControlledConversion(\n",
    "    subject=c['S_v'],\n",
    "    outcome=c['E_v'],\n",
    "    controller=c['I_u'],\n",
    "    rate_law=beta*NPI_mult*vacc_mult*S_v*I_u / N\n",
    ")\n",
    "# Su -> Eu by Iv\n",
    "sueuiv = ControlledConversion(\n",
    "    subject=c['S_u'],\n",
    "    outcome=c['E_u'],\n",
    "    controller=c['I_v'],\n",
    "    rate_law=beta*NPI_mult*S_u*I_v / N\n",
    ")\n",
    "# Sv -> Ev by Iv\n",
    "sveviv = ControlledConversion(\n",
    "    subject=c['S_v'],\n",
    "    outcome=c['E_v'],\n",
    "    controller=c['I_v'],\n",
    "    rate_law=beta*NPI_mult*vacc_mult*S_v*I_v / N\n",
    ")\n",
    "\n",
    "\n",
    "##### Vaccination\n",
    "# Su -> Sv\n",
    "susv = NaturalConversion(\n",
    "    subject=c['S_u'],\n",
    "    outcome=c['S_v'],\n",
    "    rate_law=r_Sv\n",
    ")\n",
    "# # R -> Sv\n",
    "# rsv = NaturalConversion(\n",
    "#     subject=c['R'],\n",
    "#     outcome=c['S_v'],\n",
    "#     rate_law=r_Sv\n",
    "# )\n",
    "# Sv -> Su\n",
    "svsu = NaturalConversion(\n",
    "    subject=c['S_v'],\n",
    "    outcome=c['S_u'],\n",
    "    rate_law=r_SvSu*S_v\n",
    ")\n",
    "\n",
    "\n",
    "#### E -> I\n",
    "# Eu -> Iu\n",
    "euiu = NaturalConversion(\n",
    "    subject=c['E_u'],\n",
    "    outcome=c['I_u'],\n",
    "    rate_law=r_EI*E_u\n",
    ")\n",
    "# Ev -> Iv\n",
    "eviv = NaturalConversion(\n",
    "    subject=c['E_v'],\n",
    "    outcome=c['I_v'],\n",
    "    rate_law=r_EI*E_v\n",
    ")\n",
    "\n",
    "\n",
    "#### I -> R\n",
    "# Iu -> R\n",
    "iuru = NaturalConversion(\n",
    "    subject=c['I_u'],\n",
    "    outcome=c['R'],\n",
    "    rate_law=r_IR_u*I_u\n",
    ")\n",
    "# Iv -> R\n",
    "ivrv = NaturalConversion(\n",
    "    subject=c['I_v'],\n",
    "    outcome=c['R'],\n",
    "    rate_law=r_IR_v*I_v\n",
    ")\n",
    "\n",
    "\n",
    "#### I -> H\n",
    "# Iu -> H\n",
    "iuhu = NaturalConversion(\n",
    "    subject=c['I_u'],\n",
    "    outcome=c['H'],\n",
    "    rate_law=r_IH_u*I_u\n",
    ")\n",
    "# Iv -> H\n",
    "ivhv = NaturalConversion(\n",
    "    subject=c['I_v'],\n",
    "    outcome=c['H'],\n",
    "    rate_law=r_IH_v*I_v\n",
    ")\n",
    "\n",
    "\n",
    "#### H -> R\n",
    "# H -> R\n",
    "hr = NaturalConversion(\n",
    "    subject=c['H'],\n",
    "    outcome=c['R'],\n",
    "    rate_law=r_HR*H\n",
    ")\n",
    "\n",
    "\n",
    "#### H -> D\n",
    "# Hu -> Du\n",
    "hd = NaturalConversion(\n",
    "    subject=c['H'],\n",
    "    outcome=c['D'],\n",
    "    rate_law=r_HD*H\n",
    ")\n",
    "\n",
    "\n",
    "### Cumulative Cases\n",
    "ccases = GroupedControlledProduction(\n",
    "    controllers=[c['E_u'], c['E_v']],\n",
    "    outcome=c['Cumulative_cases'],\n",
    "    rate_law=r_EI*(E_u + E_v)\n",
    ")"
   ]
  },
  {
   "cell_type": "markdown",
   "id": "0a472acc-b7a6-4858-bc5d-5ce30a6e1912",
   "metadata": {},
   "source": [
    "### Define observables"
   ]
  },
  {
   "cell_type": "code",
   "execution_count": null,
   "id": "5853408d-74de-4a45-a1db-4717567a648a",
   "metadata": {},
   "outputs": [],
   "source": [
    "observables_seir = {\n",
    "    'cases': Observable(name='cases', expression=I_u+I_v),\n",
    "    'hospitalized': Observable(name='hospitalized', expression=H),\n",
    "    'deceased': Observable(name='deceased', expression=D),\n",
    "    'cumulative_cases': Observable(name='cumulative_cases', expression=Cumulative_cases),\n",
    "}"
   ]
  },
  {
   "cell_type": "markdown",
   "id": "7b754825-fae7-4e6e-a05e-746893e2db0c",
   "metadata": {},
   "source": [
    "### Define template model and save as petrinet AMR"
   ]
  },
  {
   "cell_type": "code",
   "execution_count": null,
   "id": "c895893f-164f-48c0-9727-f9d52c5a3f14",
   "metadata": {},
   "outputs": [],
   "source": [
    "# TODO: change model name\n",
    "seir_model = TemplateModel(\n",
    "    templates=[\n",
    "        sueuiu,\n",
    "        sveviu,\n",
    "        sueuiv,\n",
    "        sveviv,\n",
    "        susv,\n",
    "        # rsv,\n",
    "        svsu,\n",
    "        euiu,\n",
    "        eviv,\n",
    "        iuhu,\n",
    "        ivhv,\n",
    "        hr,\n",
    "        hd,\n",
    "        ccases\n",
    "    ],\n",
    "    parameters=parameters,\n",
    "    initials=initials,\n",
    "    time=Time(name='t', units=day_units()),\n",
    "    observables=observables_seir,\n",
    "    annotations=Annotations(name='SEIRHD vacc model for LA County t0 = 10/28/2021')\n",
    ")\n",
    "\n",
    "# Save as JSON\n",
    "with open(\"SEIRHD_vacc_petrinet.json\", 'w') as fh:\n",
    "    json.dump(template_model_to_petrinet_json(seir_model), fh, indent=1)"
   ]
  },
  {
   "cell_type": "markdown",
   "id": "bd87fce3-fcde-4c01-a46c-c1806d6dd336",
   "metadata": {},
   "source": [
    "# Simulate the model"
   ]
  },
  {
   "cell_type": "markdown",
   "id": "b5fe2764-1967-4f33-995f-63e728b3c1e4",
   "metadata": {},
   "source": [
    "### Set parameters for sampling"
   ]
  },
  {
   "cell_type": "code",
   "execution_count": null,
   "id": "f63150e5-69ea-4cac-8e3c-76babba9be79",
   "metadata": {},
   "outputs": [],
   "source": [
    "model = \"SEIRHD_vacc_petrinet.json\"\n",
    "\n",
    "start_time = 0.0\n",
    "end_time = 151.0 # simulate from 10/28/2021 to 03/28/2022\n",
    "logging_step_size = 1.0\n",
    "num_samples = 100"
   ]
  },
  {
   "cell_type": "code",
   "execution_count": null,
   "id": "ee631bed-9f1f-4a75-bee1-d887f27161b8",
   "metadata": {},
   "outputs": [],
   "source": [
    "### Simulate model 1"
   ]
  },
  {
   "cell_type": "code",
   "execution_count": null,
   "id": "42c696d9-8e7a-4d22-aa16-02902652606b",
   "metadata": {},
   "outputs": [],
   "source": [
    "result1 = pyciemss.sample(model1, end_time, logging_step_size, num_samples, start_time=start_time)\n",
    "display(result1['data'].head())\n",
    "\n",
    "# Plot results for all states\n",
    "schema = plots.trajectories(result1[\"data\"], keep=\".*_state\")\n",
    "plots.save_schema(schema, \"_schema.json\")\n",
    "plots.ipy_display(schema, dpi=150)"
   ]
  },
  {
   "cell_type": "markdown",
   "id": "64b98394-ac22-4174-9cd4-6d4656165513",
   "metadata": {},
   "source": [
    "### Set up and perform calibration"
   ]
  },
  {
   "cell_type": "code",
   "execution_count": null,
   "id": "61d8b60f-0591-4361-953f-db073b5c6488",
   "metadata": {},
   "outputs": [],
   "source": [
    "data_mapping = {\"cases\": \"cumulative_cases\", \"deaths\": \"deceased\"} # data is mapped to observables\n",
    "\n",
    "num_iterations = 500\n",
    "calibrated_results = pyciemss.calibrate(\n",
    "    model, \n",
    "    data, \n",
    "    data_mapping=data_mapping, \n",
    "    num_iterations=num_iterations\n",
    ")\n",
    "parameter_estimates = calibrated_results[\"inferred_parameters\"]\n",
    "parameter_estimates()"
   ]
  },
  {
   "cell_type": "markdown",
   "id": "8072c4fc-4144-49df-9f51-6b364c168362",
   "metadata": {},
   "source": [
    "### Simulate a 3-month forecast and plot results with data (Scenario 2 - Part I)"
   ]
  },
  {
   "cell_type": "code",
   "execution_count": null,
   "id": "fd24d2c9-036a-479f-b844-728b0c678f39",
   "metadata": {},
   "outputs": [],
   "source": [
    "calibrated_sample_results = pyciemss.sample(\n",
    "    model, \n",
    "    end_time, \n",
    "    logging_step_size, \n",
    "    num_samples,             \n",
    "    start_time=start_time, \n",
    "    inferred_parameters=parameter_estimates\n",
    ")\n",
    "# display(calibrated_sample_results[\"data\"].head())\n",
    "\n",
    "# Plot the result\n",
    "nice_labels = {\n",
    "        \"cumulative_cases_observable_state\": \"Cumulative Cases\",\n",
    "        \"deceased_observable_state\": \"Deaths\", \n",
    "        }\n",
    "nice_data_names = {\n",
    "        \"cases\": \"Case Data\",\n",
    "        \"deaths\": \"Death Data\"\n",
    "        }\n",
    "data_df = pd.read_csv(data)\n",
    "data_df.rename(columns=nice_data_names, inplace=True)\n",
    "schema = plots.trajectories(\n",
    "    pd.DataFrame(calibrated_sample_results[\"data\"]), \n",
    "    keep=[\"cumulative_cases_observable_state\", \"deceased_observable_state\"], \n",
    "    relabel=nice_labels,\n",
    "    points=data_df.drop(columns=['Timestamp']).reset_index(drop=True)\n",
    ")\n",
    "\n",
    "plots.save_schema(schema, \"_schema.json\")\n",
    "plots.ipy_display(schema, dpi=150)"
   ]
  },
  {
   "cell_type": "code",
   "execution_count": null,
   "id": "e0d6f0b3-19fb-48bb-83b4-61138a5e8355",
   "metadata": {},
   "outputs": [],
   "source": []
  },
  {
   "cell_type": "code",
   "execution_count": null,
   "id": "1d7d1ba1-b4c4-4907-879b-9a86854da7db",
   "metadata": {},
   "outputs": [],
   "source": []
  },
  {
   "cell_type": "code",
   "execution_count": null,
   "id": "5ba60537-b90a-46f1-8aa0-a095c6658ba6",
   "metadata": {},
   "outputs": [],
   "source": []
  },
  {
   "cell_type": "code",
   "execution_count": null,
   "id": "be3c8285-8ec7-4125-b69a-c35829076c50",
   "metadata": {},
   "outputs": [],
   "source": []
  },
  {
   "cell_type": "code",
   "execution_count": null,
   "id": "89582d40-91c8-4d69-b329-066ff58d2ac6",
   "metadata": {},
   "outputs": [],
   "source": []
  }
 ],
 "metadata": {
  "kernelspec": {
   "display_name": "Python 3 (ipykernel)",
   "language": "python",
   "name": "python3"
  },
  "language_info": {
   "codemirror_mode": {
    "name": "ipython",
    "version": 3
   },
   "file_extension": ".py",
   "mimetype": "text/x-python",
   "name": "python",
   "nbconvert_exporter": "python",
   "pygments_lexer": "ipython3",
   "version": "3.10.9"
  }
 },
 "nbformat": 4,
 "nbformat_minor": 5
}
