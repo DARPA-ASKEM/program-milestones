{
 "cells": [
  {
   "cell_type": "markdown",
   "id": "063c493a-e644-4635-9ce7-4e7e3023de44",
   "metadata": {},
   "source": [
    "# July 2024 Scenario - Limiting Hospitalizations\n",
    "\n",
    "## Time = December 28th, 2021 (right around upswing of Omicron wave), Location = LA County"
   ]
  },
  {
   "cell_type": "markdown",
   "id": "5f3ad2f7-00ea-4133-ba8c-b6f38f400e0d",
   "metadata": {},
   "source": [
    "### Load dependencies"
   ]
  },
  {
   "cell_type": "code",
   "execution_count": 2,
   "id": "a70da666-d6ed-43a7-bae0-5d1e1c0a6c4e",
   "metadata": {},
   "outputs": [],
   "source": [
    "import pandas as pd\n",
    "\n",
    "import pyciemss\n",
    "import pyciemss.visuals.plots as plots\n",
    "import pyciemss.visuals.vega as vega\n",
    "import pyciemss.visuals.trajectories as trajectories\n",
    "from pyciemss.integration_utils.result_processing import cdc_format"
   ]
  },
  {
   "cell_type": "markdown",
   "id": "54bb2b01-67ad-4a29-bc35-1836ef7a6686",
   "metadata": {},
   "source": [
    "### Load model with vaccinations, variants, and hospitalizations"
   ]
  },
  {
   "cell_type": "code",
   "execution_count": 1,
   "id": "4692279e-dbff-4d71-a9ed-10513ec8d019",
   "metadata": {},
   "outputs": [],
   "source": [
    "model1 = \"https://raw.githubusercontent.com/ciemss/program-milestones/12-epi-ensemble-challenge/18-month-milestone/evaluation/Epi_Ensemble_Challenge/SEIRHD_vacc_var_petrinet.json\""
   ]
  },
  {
   "cell_type": "markdown",
   "id": "50a420bf-83bf-4a98-b077-f21ecf4cd05d",
   "metadata": {},
   "source": [
    "### Gather and process data"
   ]
  },
  {
   "cell_type": "code",
   "execution_count": 3,
   "id": "ed8a400e-6bbb-436a-9bd9-1ee1c1b505dd",
   "metadata": {},
   "outputs": [],
   "source": [
    "data1 = \"LA_County_Covid19_CSA_14day_hospitalization_table.csv\""
   ]
  },
  {
   "cell_type": "code",
   "execution_count": null,
   "id": "8583de94-1a26-464d-9c49-0e3c8d121251",
   "metadata": {},
   "outputs": [],
   "source": []
  },
  {
   "cell_type": "code",
   "execution_count": null,
   "id": "aa96bd88-6839-4538-9781-308b6636c40a",
   "metadata": {},
   "outputs": [],
   "source": []
  }
 ],
 "metadata": {
  "kernelspec": {
   "display_name": "Python 3 (ipykernel)",
   "language": "python",
   "name": "python3"
  },
  "language_info": {
   "codemirror_mode": {
    "name": "ipython",
    "version": 3
   },
   "file_extension": ".py",
   "mimetype": "text/x-python",
   "name": "python",
   "nbconvert_exporter": "python",
   "pygments_lexer": "ipython3",
   "version": "3.10.9"
  }
 },
 "nbformat": 4,
 "nbformat_minor": 5
}
