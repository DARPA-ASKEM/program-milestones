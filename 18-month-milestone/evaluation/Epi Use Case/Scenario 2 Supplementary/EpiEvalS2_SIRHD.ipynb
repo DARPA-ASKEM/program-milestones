{
 "cells": [
  {
   "cell_type": "code",
   "execution_count": 5,
   "metadata": {},
   "outputs": [],
   "source": [
    "def SIRHD_Model(y, t, params):\n",
    "    S, I, R, H, D = y \n",
    "\n",
    "    N = params['N'].value\n",
    "    beta = params['beta'].value\n",
    "    r_I_to_R = params['r_I_to_R'].value\n",
    "    r_I_to_H = params['r_I_to_H'].value\n",
    "    r_H_to_R = params['r_H_to_R'].value\n",
    "    r_H_to_D = params['r_H_to_D'].value\n",
    "    p_I_to_H = params['p_I_to_H'].value\n",
    "    p_I_to_R = params['p_I_to_R'].value\n",
    "    p_H_to_D = params['p_H_to_D'].value\n",
    "    p_H_to_R = params['p_H_to_R'].value\n",
    "\n",
    "    dSdt = -beta * I * S / N\n",
    "    dIdt = beta * I * S / N - (r_I_to_H * p_I_to_H * I) - (r_I_to_R * p_I_to_R * I)\n",
    "    dRdt = (r_I_to_R * p_I_to_R * I) + (r_H_to_R * p_H_to_R * H)\n",
    "    dHdt = (r_I_to_H * p_I_to_H * I) - (r_H_to_D * p_H_to_D * H)  - (r_H_to_R * p_H_to_R * H)\n",
    "    dDdt = r_H_to_D * p_H_to_D * H\n",
    "\n",
    "    return dSdt, dIdt, dRdt, dHdt, dDdt"
   ]
  }
 ],
 "metadata": {
  "kernelspec": {
   "display_name": "climate",
   "language": "python",
   "name": "python3"
  },
  "language_info": {
   "codemirror_mode": {
    "name": "ipython",
    "version": 3
   },
   "file_extension": ".py",
   "mimetype": "text/x-python",
   "name": "python",
   "nbconvert_exporter": "python",
   "pygments_lexer": "ipython3",
   "version": "3.12.1"
  }
 },
 "nbformat": 4,
 "nbformat_minor": 2
}
