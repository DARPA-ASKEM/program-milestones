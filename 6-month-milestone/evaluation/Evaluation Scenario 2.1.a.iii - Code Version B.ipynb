{
 "cells": [
  {
   "cell_type": "code",
   "execution_count": null,
   "id": "127333a7",
   "metadata": {
    "ExecuteTime": {
     "end_time": "2023-01-03T01:23:58.201127Z",
     "start_time": "2023-01-03T01:23:55.847624Z"
    }
   },
   "outputs": [],
   "source": [
    "# import statements\n",
    "from scipy.integrate import odeint\n",
    "import numpy as np\n",
    "import matplotlib.pyplot as plt"
   ]
  },
  {
   "cell_type": "markdown",
   "id": "f587697b",
   "metadata": {},
   "source": [
    "# Function Definitions"
   ]
  },
  {
   "cell_type": "code",
   "execution_count": null,
   "id": "3d7e40f5",
   "metadata": {
    "ExecuteTime": {
     "end_time": "2023-01-03T01:24:00.194654Z",
     "start_time": "2023-01-03T01:24:00.112157Z"
    }
   },
   "outputs": [],
   "source": [
    "# define SIDARTHE_model\n",
    "def SIDARTHE_model(y, t, alpha, beta, gamma, delta, epsilon, mu, zeta, lamb, eta, rho, theta, kappa, nu, xi, sigma, tau):\n",
    "    S, I, D, A, R, T, H, E = y\n",
    "    dSdt = -S*(alpha(t)*I + beta(t)*D + gamma(t)*A + delta(t)*R)\n",
    "    dIdt = S*(alpha(t)*I + beta(t)*D + gamma(t)*A + delta(t)*R) - (epsilon(t) + zeta(t) + lamb(t))*I\n",
    "    dDdt = epsilon(t)*I - (eta(t) + rho(t))*D\n",
    "    dAdt = zeta(t)*I - (theta(t) + mu(t) + kappa(t))*A\n",
    "    dRdt = eta(t)*D + theta(t)*A - (nu(t) + xi(t))*R\n",
    "    dTdt = mu(t)*A + nu(t)*R - (sigma(t) + tau(t))*T\n",
    "    dHdt = lamb(t)*I + rho(t)*D + kappa(t)*A + xi(t)*R + sigma(t)*T\n",
    "    dEdt = tau(t)*T\n",
    "    \n",
    "    return dSdt, dIdt, dDdt, dAdt, dRdt, dTdt, dHdt, dEdt\n",
    "\n",
    "#  plot SIDARTHE model\n",
    "def plotSIDARTHE(t, S, I, D, A, R, T, H, E):\n",
    "    f, ax = plt.subplots(1,1,figsize=(10,4))\n",
    "    ax.plot(t, S, 'b', alpha=0.7, linewidth=2, label='Susceptible')\n",
    "    ax.plot(t, I, 'r', alpha=0.7, linewidth=2, label='Infected (Asymptomatic, Infected, Undetected)')\n",
    "    ax.plot(t, D, 'r.', alpha=0.7, linewidth=2, label='Diagnosed (Asymptomatic, Infected, Detected)')\n",
    "    ax.plot(t, A, 'r:', alpha=0.7, linewidth=2, label='Ailing (Symptomatic, Infected, Undetected)')\n",
    "    ax.plot(t, R, 'r--', alpha=0.7, linewidth=2, label='Recognized (Symptomatic, Infected, Detected)')\n",
    "    ax.plot(t, T, 'r-.', alpha=0.7, linewidth=2, label='Threatened (Acutely Symptomatic)')\n",
    "    ax.plot(t, H, 'g', alpha=0.7, linewidth=2, label='Healed')\n",
    "    ax.plot(t, E, 'k', alpha=0.7, linewidth=2, label='Extinct (Dead)')\n",
    "\n",
    "    ax.set_xlabel('Time (days)')\n",
    "    ax.set_ylabel('Fraction of population')\n",
    "\n",
    "    ax.yaxis.set_tick_params(length=0)\n",
    "    ax.xaxis.set_tick_params(length=0)\n",
    "    ax.grid(b=True, which='major', c='w', lw=2, ls='-')\n",
    "    legend = ax.legend()\n",
    "    legend.get_frame().set_alpha(0.5)\n",
    "    \n",
    "    plt.show();"
   ]
  },
  {
   "cell_type": "markdown",
   "id": "f3df1865",
   "metadata": {},
   "source": [
    "# Example Simulation and Plot"
   ]
  },
  {
   "cell_type": "code",
   "execution_count": null,
   "id": "959a3338",
   "metadata": {
    "ExecuteTime": {
     "end_time": "2023-01-03T01:25:26.156874Z",
     "start_time": "2023-01-03T01:25:24.374120Z"
    }
   },
   "outputs": [],
   "source": [
    "# set parameter values\n",
    "def alpha(t): return np.piecewise(t, [t>=0], [0.75])\n",
    "def beta(t): return np.piecewise(t, [t>=0], [0.1])\n",
    "def delta(t): return np.piecewise(t, [t>=0], [0.05])\n",
    "def gamma(t): return np.piecewise(t, [t>=0], [0.2])\n",
    "\n",
    "def epsilon(t): return np.piecewise(t, [t>=0], [0.1])\n",
    "def theta(t): return np.piecewise(t, [t>=0], [0.1])\n",
    "\n",
    "def zeta(t): return np.piecewise(t, [t>=0], [0.05])\n",
    "def eta(t): return np.piecewise(t, [t>=0], [0.05])\n",
    "\n",
    "def mu(t): return np.piecewise(t, [t>=0], [0.05])\n",
    "def nu(t): return np.piecewise(t, [t>=0], [0.05])\n",
    "def lamb(t): return np.piecewise(t, [t>=0], [0.05])\n",
    "def rho(t): return np.piecewise(t, [t>=0], [0.05])\n",
    "\n",
    "def kappa(t): return np.piecewise(t, [t>=0], [0.01])\n",
    "def xi(t): return np.piecewise(t, [t>=0], [0.01])\n",
    "def sigma(t): return np.piecewise(t, [t>=0], [0.01])\n",
    "\n",
    "def tau(t): return np.piecewise(t, [t>=0], [0.01])\n",
    "\n",
    "# set initial conditions\n",
    "N0 = 1e6\n",
    "I0, D0, A0, R0, T0, H0, E0 = 50/N0, 50/N0, 1/N0, 1/N0, 0, 0, 0\n",
    "S0 = 1-I0-D0-A0-R0-T0-H0-E0\n",
    "y0 = S0, I0, D0, A0, R0, T0, H0, E0 # Initial conditions vector\n",
    "\n",
    "# set simulation parameters\n",
    "dt = .5\n",
    "tstart = 0\n",
    "tend = 50\n",
    "tvect = np.arange(tstart, tend, dt) \n",
    "\n",
    "# solve odes\n",
    "sim = odeint(SIDARTHE_model, y0, tvect, args=(alpha, beta, gamma, delta, epsilon, mu, zeta, lamb, eta, rho, theta, kappa, nu, xi, sigma, tau))\n",
    "S, I, D, A, R, T, H, E = sim.T\n",
    "\n",
    "# plot results\n",
    "plotSIDARTHE(tvect, S, I, D, A, R, T, H, E)"
   ]
  }
 ],
 "metadata": {
  "kernelspec": {
   "display_name": "Python 3 (ipykernel)",
   "language": "python",
   "name": "python3"
  },
  "language_info": {
   "codemirror_mode": {
    "name": "ipython",
    "version": 3
   },
   "file_extension": ".py",
   "mimetype": "text/x-python",
   "name": "python",
   "nbconvert_exporter": "python",
   "pygments_lexer": "ipython3",
   "version": "3.8.13"
  },
  "toc": {
   "base_numbering": 1,
   "nav_menu": {},
   "number_sections": true,
   "sideBar": true,
   "skip_h1_title": false,
   "title_cell": "Table of Contents",
   "title_sidebar": "Contents",
   "toc_cell": false,
   "toc_position": {
    "height": "calc(100% - 180px)",
    "left": "10px",
    "top": "150px",
    "width": "304.475px"
   },
   "toc_section_display": true,
   "toc_window_display": true
  },
  "varInspector": {
   "cols": {
    "lenName": 16,
    "lenType": 16,
    "lenVar": 40
   },
   "kernels_config": {
    "python": {
     "delete_cmd_postfix": "",
     "delete_cmd_prefix": "del ",
     "library": "var_list.py",
     "varRefreshCmd": "print(var_dic_list())"
    },
    "r": {
     "delete_cmd_postfix": ") ",
     "delete_cmd_prefix": "rm(",
     "library": "var_list.r",
     "varRefreshCmd": "cat(var_dic_list()) "
    }
   },
   "types_to_exclude": [
    "module",
    "function",
    "builtin_function_or_method",
    "instance",
    "_Feature"
   ],
   "window_display": false
  },
  "vscode": {
   "interpreter": {
    "hash": "f70904c00f3e5db7ed77335922286f33ced945fd1de3c4e0e8e3be9be772bce3"
   }
  }
 },
 "nbformat": 4,
 "nbformat_minor": 5
}
